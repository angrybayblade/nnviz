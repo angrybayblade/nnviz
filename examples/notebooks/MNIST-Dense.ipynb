{
 "cells": [
  {
   "cell_type": "code",
   "execution_count": 11,
   "metadata": {},
   "outputs": [],
   "source": [
    "import tensorflow as tf\n",
    "import matplotlib.pyplot as plt\n",
    "import numpy as np\n",
    "\n",
    "from tensorflow.keras.layers import *\n",
    "from tensorflow.keras import Model\n",
    "\n",
    "from json import loads\n",
    "\n",
    "%matplotlib inline"
   ]
  },
  {
   "cell_type": "code",
   "execution_count": 2,
   "metadata": {},
   "outputs": [],
   "source": [
    "(X,Y),(x,y) = tf.keras.datasets.mnist.load_data()\n",
    "\n",
    "X = X.reshape(-1,784) / 255\n",
    "x = x.reshape(-1,784) / 255\n",
    "\n",
    "Y = tf.keras.utils.to_categorical(Y)\n",
    "y = tf.keras.utils.to_categorical(y)"
   ]
  },
  {
   "cell_type": "code",
   "execution_count": 51,
   "metadata": {},
   "outputs": [],
   "source": [
    "inp = Input(shape=(784,),name=\"input\")\n",
    "\n",
    "d1 = Dense(128,activation=\"relu\",name=\"dense_1\")(inp)\n",
    "d2a = Dense(32,activation=\"relu\",name=\"dense_2a\")(d1)\n",
    "d2b = Dense(32,activation=\"relu\",name=\"dense_2b\")(d1)\n",
    "c = concatenate([d2a,d2b],name='add')\n",
    "d3 = Dense(32,activation=\"relu\",name=\"dense_3\")(c)\n",
    "\n",
    "out = Dense(10,activation=\"softmax\",name=\"out\")(d3)\n",
    "\n",
    "model = Model([inp],[out])"
   ]
  },
  {
   "cell_type": "code",
   "execution_count": 52,
   "metadata": {},
   "outputs": [
    {
     "name": "stdout",
     "output_type": "stream",
     "text": [
      "Model: \"model_4\"\n",
      "__________________________________________________________________________________________________\n",
      "Layer (type)                    Output Shape         Param #     Connected to                     \n",
      "==================================================================================================\n",
      "input (InputLayer)              [(None, 784)]        0                                            \n",
      "__________________________________________________________________________________________________\n",
      "dense_1 (Dense)                 (None, 128)          100480      input[0][0]                      \n",
      "__________________________________________________________________________________________________\n",
      "dense_2a (Dense)                (None, 32)           4128        dense_1[0][0]                    \n",
      "__________________________________________________________________________________________________\n",
      "dense_2b (Dense)                (None, 32)           4128        dense_1[0][0]                    \n",
      "__________________________________________________________________________________________________\n",
      "add (Concatenate)               (None, 64)           0           dense_2a[0][0]                   \n",
      "                                                                 dense_2b[0][0]                   \n",
      "__________________________________________________________________________________________________\n",
      "dense_3 (Dense)                 (None, 32)           2080        add[0][0]                        \n",
      "__________________________________________________________________________________________________\n",
      "out (Dense)                     (None, 10)           330         dense_3[0][0]                    \n",
      "==================================================================================================\n",
      "Total params: 111,146\n",
      "Trainable params: 111,146\n",
      "Non-trainable params: 0\n",
      "__________________________________________________________________________________________________\n"
     ]
    }
   ],
   "source": [
    "model.summary()"
   ]
  },
  {
   "cell_type": "code",
   "execution_count": 53,
   "metadata": {},
   "outputs": [],
   "source": [
    "model.compile(loss=\"categorical_crossentropy\",optimizer=\"adam\",metrics=['accuracy'])"
   ]
  },
  {
   "cell_type": "code",
   "execution_count": 54,
   "metadata": {},
   "outputs": [
    {
     "name": "stdout",
     "output_type": "stream",
     "text": [
      "1875/1875 [==============================] - 4s 2ms/step - loss: 0.4596 - accuracy: 0.8573 - val_loss: 0.1243 - val_accuracy: 0.9634\n"
     ]
    },
    {
     "data": {
      "text/plain": [
       "<tensorflow.python.keras.callbacks.History at 0x1dea4e53b20>"
      ]
     },
     "execution_count": 54,
     "metadata": {},
     "output_type": "execute_result"
    }
   ],
   "source": [
    "model.fit(X,Y,epochs=1,batch_size=32,validation_data=(x,y))"
   ]
  },
  {
   "cell_type": "code",
   "execution_count": 55,
   "metadata": {},
   "outputs": [],
   "source": [
    "model_config = loads(model.to_json())"
   ]
  },
  {
   "cell_type": "code",
   "execution_count": 145,
   "metadata": {},
   "outputs": [],
   "source": [
    "config_names = ['units']\n",
    "\n",
    "network = {}\n",
    "\n",
    "for layer in model_config['config']['layers']:\n",
    "    la = {}\n",
    "    la['level'] = 0\n",
    "    la['inbound_nodes'] = [l[0] for l in layer['inbound_nodes'][0]] if layer['inbound_nodes'] else []\n",
    "    la['outbound_nodes'] = []\n",
    "    la['config'] = { key:layer['config'][key] for key in config_names if key in layer['config']}\n",
    "    network[layer['config']['name']] = la\n",
    "    \n",
    "for l in network:\n",
    "    for n in network[l]['inbound_nodes']:\n",
    "        network[n]['outbound_nodes'].append(l)\n",
    "        \n",
    "for i,layer in enumerate(model.layers):\n",
    "    network[layer.name]['level'] = i"
   ]
  },
  {
   "cell_type": "code",
   "execution_count": 146,
   "metadata": {},
   "outputs": [
    {
     "data": {
      "text/plain": [
       "{'level': 5,\n",
       " 'inbound_nodes': ['add'],\n",
       " 'outbound_nodes': ['out'],\n",
       " 'config': {'units': 32}}"
      ]
     },
     "execution_count": 146,
     "metadata": {},
     "output_type": "execute_result"
    }
   ],
   "source": [
    "network['dense_3']"
   ]
  },
  {
   "cell_type": "code",
   "execution_count": 149,
   "metadata": {},
   "outputs": [
    {
     "data": {
      "text/plain": [
       "{'input': {'level': 0,\n",
       "  'inbound_nodes': [],\n",
       "  'outbound_nodes': ['dense_1'],\n",
       "  'config': {}},\n",
       " 'dense_1': {'level': 1,\n",
       "  'inbound_nodes': ['input'],\n",
       "  'outbound_nodes': ['dense_2a', 'dense_2b'],\n",
       "  'config': {'units': 128}},\n",
       " 'dense_2a': {'level': 2,\n",
       "  'inbound_nodes': ['dense_1'],\n",
       "  'outbound_nodes': ['add'],\n",
       "  'config': {'units': 32}},\n",
       " 'dense_2b': {'level': 3,\n",
       "  'inbound_nodes': ['dense_1'],\n",
       "  'outbound_nodes': ['add'],\n",
       "  'config': {'units': 32}},\n",
       " 'add': {'level': 4,\n",
       "  'inbound_nodes': ['dense_2a', 'dense_2b'],\n",
       "  'outbound_nodes': ['dense_3'],\n",
       "  'config': {}},\n",
       " 'dense_3': {'level': 5,\n",
       "  'inbound_nodes': ['add'],\n",
       "  'outbound_nodes': ['out'],\n",
       "  'config': {'units': 32}},\n",
       " 'out': {'level': 6,\n",
       "  'inbound_nodes': ['dense_3'],\n",
       "  'outbound_nodes': [],\n",
       "  'config': {'units': 10}}}"
      ]
     },
     "execution_count": 149,
     "metadata": {},
     "output_type": "execute_result"
    }
   ],
   "source": [
    "network"
   ]
  },
  {
   "cell_type": "code",
   "execution_count": 15,
   "metadata": {},
   "outputs": [
    {
     "name": "stderr",
     "output_type": "stream",
     "text": [
      "A subdirectory or file ../save_models/MNIST_DENSE/ already exists.\n"
     ]
    }
   ],
   "source": [
    "!mkdir \"../save_models/MNIST_DENSE/\""
   ]
  },
  {
   "cell_type": "code",
   "execution_count": 16,
   "metadata": {},
   "outputs": [],
   "source": [
    "open(\"../save_models/MNIST_DENSE/model.json\",\"w+\").write(model.to_json())\n",
    "model.save_weights(\"../save_models/MNIST_DENSE/model\")"
   ]
  }
 ],
 "metadata": {
  "kernelspec": {
   "display_name": "Python 3",
   "language": "python",
   "name": "python3"
  },
  "language_info": {
   "codemirror_mode": {
    "name": "ipython",
    "version": 3
   },
   "file_extension": ".py",
   "mimetype": "text/x-python",
   "name": "python",
   "nbconvert_exporter": "python",
   "pygments_lexer": "ipython3",
   "version": "3.8.0"
  }
 },
 "nbformat": 4,
 "nbformat_minor": 4
}
