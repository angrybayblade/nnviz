{
 "cells": [
  {
   "cell_type": "code",
   "execution_count": 1,
   "metadata": {},
   "outputs": [],
   "source": [
    "import tensorflow as tf\n",
    "\n",
    "from tensorflow import keras\n",
    "from tensorflow.keras.layers import *\n",
    "from tensorflow.keras.models import Model"
   ]
  },
  {
   "cell_type": "code",
   "execution_count": 2,
   "metadata": {},
   "outputs": [],
   "source": [
    "import numpy as np\n",
    "import matplotlib.pyplot as plt\n",
    "\n",
    "from json import dumps,loads\n",
    "\n",
    "import cv2\n",
    "import base64\n",
    "import gc\n",
    "\n",
    "%matplotlib inline"
   ]
  },
  {
   "cell_type": "code",
   "execution_count": 13,
   "metadata": {},
   "outputs": [
    {
     "data": {
      "text/plain": [
       "366"
      ]
     },
     "execution_count": 13,
     "metadata": {},
     "output_type": "execute_result"
    }
   ],
   "source": [
    "(X,Y),(_,_) = keras.datasets.cifar100.load_data()\n",
    "Y = keras.utils.to_categorical(Y)\n",
    "gc.collect()"
   ]
  },
  {
   "cell_type": "code",
   "execution_count": 5,
   "metadata": {},
   "outputs": [],
   "source": [
    "model = keras.models.model_from_json(open(\"./saved_model/CIFAR_100_resnet.json\",\"r\").read())"
   ]
  },
  {
   "cell_type": "code",
   "execution_count": 138,
   "metadata": {},
   "outputs": [
    {
     "data": {
      "text/plain": [
       "<tensorflow.python.training.tracking.util.CheckpointLoadStatus at 0x2433f440fd0>"
      ]
     },
     "execution_count": 138,
     "metadata": {},
     "output_type": "execute_result"
    }
   ],
   "source": [
    "model.load_weights('./saved_model/CIFAR_100_resnet')"
   ]
  },
  {
   "cell_type": "code",
   "execution_count": 179,
   "metadata": {},
   "outputs": [],
   "source": [
    "def set_levels(network,input_nodes,level):\n",
    "    for node in input_nodes:\n",
    "        if network[node]['level'] > -1:            \n",
    "            set_levels(network,network[node]['outbound'],network[node]['level']+1)\n",
    "        else:\n",
    "            network[node]['level'] = level\n",
    "            if len(network[node]['outbound']):\n",
    "                for ob in network[node]['outbound']:\n",
    "                    network[ob]['level'] = level + 1\n",
    "            set_levels(network,network[node]['outbound'],network[node]['level']+1)\n",
    "        \n",
    "def get_conf(model:tf.keras.models.Model,input_config:dict):\n",
    "    model_conf = loads(model.to_json())\n",
    "    network = {\n",
    "        l['name']:{\n",
    "            \"inbound\":[],\n",
    "            \"outbound\":[],\n",
    "            \"class_name\":l['class_name'],\n",
    "            \"level\":-1,\n",
    "        } for l in model_conf['config']['layers']\n",
    "    }\n",
    "\n",
    "    for l in model_conf['config']['layers']:\n",
    "        if len(l['inbound_nodes']):\n",
    "            for n in l['inbound_nodes'][0]:\n",
    "                network[l['name']]['inbound'].append(n[0])\n",
    "                network[n[0]]['outbound'].append(l['name'])\n",
    "\n",
    "    set_levels(network,input_config['input_nodes'],0)\n",
    "    levels = [[] for i in range(max([i['level'] for _,i in network.items()])+1)]\n",
    "    for node,val in network.items():\n",
    "        levels[val['level']].append(node)\n",
    "    \n",
    "    for i,level in enumerate(levels):\n",
    "        if not len(level):\n",
    "            j = i - 1\n",
    "            while j:\n",
    "                if len(levels[j]) > 1:\n",
    "                    levels[i] = levels[j][1:]\n",
    "                    levels[j] = levels[j][:1]\n",
    "                    break\n",
    "                j -= 1\n",
    "                \n",
    "    return network,levels"
   ]
  },
  {
   "cell_type": "code",
   "execution_count": 180,
   "metadata": {},
   "outputs": [],
   "source": [
    "input_config = {\n",
    "    \"examples\":[\n",
    "        {\n",
    "            \"input\":{ \n",
    "                \"value\":X[0:1],\n",
    "            },\n",
    "        }\n",
    "    ],\n",
    "    \"input_layers_config\":{\n",
    "        \"input\":{\n",
    "            \"type\":\"image\",\n",
    "            \"shape\":(32,32,3),\n",
    "            \"transformer\":\"prepare_input_image\",\n",
    "            \"resize\":(128,128)\n",
    "        }\n",
    "    },\n",
    "    \"input_nodes\":['input']\n",
    "}\n",
    "network,levels = get_conf(model,input_config,)"
   ]
  },
  {
   "cell_type": "code",
   "execution_count": 374,
   "metadata": {},
   "outputs": [],
   "source": [
    "def image2base64(image:np.ndarray)->str:\n",
    "    image = cv2.resize(image,(128,128))\n",
    "    retval, buffer = cv2.imencode('.png', image)\n",
    "    buffer = base64.b64encode(buffer)\n",
    "    return 'data:image/png;base64,' + str(buffer,encoding=\"utf-8\")\n",
    "\n",
    "def prepare_input_image(image:np.ndarray,layer:dict,input_config:dict):\n",
    "    try:\n",
    "        image = image.reshape(input_config['shape'])\n",
    "    except ValueError:\n",
    "        _,*shape = layer['instance'].output_shape\n",
    "        image = image.reshape(shape)\n",
    "        \n",
    "    return image2base64(image[:,:,::-1])\n",
    "\n",
    "transformers = {\n",
    "    \"prepare_input_image\":prepare_input_image\n",
    "}"
   ]
  },
  {
   "cell_type": "code",
   "execution_count": 403,
   "metadata": {},
   "outputs": [],
   "source": [
    "def prep_dummy(value:np.ndarray,layer:Layer,*args,**kwargs):\n",
    "    pass\n",
    "\n",
    "def prep_input_layer(\n",
    "        value:np.ndarray,\n",
    "        layer:dict,\n",
    "        input_config:dict,\n",
    "        *args,\n",
    "        **kwargs\n",
    "    )->list:\n",
    "    \"\"\"\n",
    "    Prep Function For InputLayer \n",
    "    \"\"\"\n",
    "    func = transformers[input_config[layer['name']]['transformer']]\n",
    "    return func(value.numpy(),layer,input_config[layer['name']])\n",
    "\n",
    "def prep_dense(\n",
    "        value:np.ndarray,\n",
    "        *args,\n",
    "        **kwargs\n",
    "    )->list:\n",
    "    \"\"\"\n",
    "    Prep Function For Dense Layer\n",
    "    \"\"\"\n",
    "    (value,) = value.numpy()\n",
    "    return ((value.astype(float) / value.max())).tolist()\n",
    "\n",
    "def prep_activation(\n",
    "        value:np.ndarray,\n",
    "        layer:Layer,\n",
    "        *args,\n",
    "        **kwargs\n",
    "    )->list:\n",
    "    pass\n",
    "\n",
    "def prep_lstm(value:np.ndarray,layer:tf.keras.layers.Layer,*args,**kwargs):\n",
    "    if layer.return_sequences:\n",
    "        value,*_ = value\n",
    "        _min = value.min(axis=1).reshape(-1,1)\n",
    "        _max = value.max(axis=1).reshape(-1,1)\n",
    "        value = ((value - _min)/(_max - _min))\n",
    "        value[np.isnan(value)] = 0\n",
    "        return value.astype(float).tolist()\n",
    "        \n",
    "    return ((value / value.max())[0]).tolist()\n",
    "\n",
    "\n",
    "def prep_conv2d(\n",
    "        value:np.ndarray,\n",
    "        *args,\n",
    "        **kwargs\n",
    "    )->list:\n",
    "    \"\"\"\n",
    "    Prep function for Conv2D layer\n",
    "    \"\"\"\n",
    "    value = value.numpy()\n",
    "    _,h,w,c = value.shape\n",
    "    images = value.reshape(c,h*w).copy()\n",
    "    _min =  images.min(axis=1).reshape(-1,1)\n",
    "    _max =  images.max(axis=1).reshape(-1,1)\n",
    "    images = (((images - _min) / (_max - _min)).reshape(c,h,w)*255).astype(np.uint8)\n",
    "    images[np.isnan(images)] = 0\n",
    "    _max = images.max()\n",
    "    _max = _max if _max else 1\n",
    "    return [ (image2base64(image),float(image.mean()/_max)) for image in images ]\n",
    "\n",
    "def get_outputs(\n",
    "        tensor,\n",
    "        layer,\n",
    "        input_config,\n",
    "        network,\n",
    "        model\n",
    "    ):\n",
    "    func = prep_functions[layer['config']['class_name']]\n",
    "    outputs = func(\n",
    "        value=tensor,\n",
    "        layer=layer,\n",
    "        network=network,\n",
    "        input_config=input_config,\n",
    "        model=model\n",
    "    )\n",
    "    return outputs\n",
    "\n",
    "\n",
    "def prep_ext_layer(\n",
    "        value:np.ndarray,\n",
    "        layer:dict,\n",
    "        network:dict,\n",
    "        input_config:dict,\n",
    "        model,\n",
    "        *args,**kwargs\n",
    "    ):\n",
    "    (parent,*_) = network[layer['name']]['inbound']\n",
    "    layer = {\n",
    "        \"name\":parent,\n",
    "        \"config\":network[parent],\n",
    "        \"instance\":layer['instance']\n",
    "    }\n",
    "    if network[parent]['class_name'] == 'InputLayer':\n",
    "        return [get_outputs(value,layer,input_config,network,model)]\n",
    "    return get_outputs(value,layer,input_config,network,model)\n",
    "\n",
    "prep_functions = {\n",
    "    \"Conv2D\":prep_conv2d,\n",
    "    \"Dense\":prep_dense,\n",
    "    \"InputLayer\":prep_input_layer,\n",
    "    \"MaxPooling2D\":prep_conv2d,\n",
    "    \"Flatten\":prep_dense,\n",
    "    \"LSTM\":prep_lstm,\n",
    "    \n",
    "    \"Concatenate\":prep_ext_layer,\n",
    "    \"Activation\":prep_ext_layer,\n",
    "    \"Add\":prep_ext_layer,\n",
    "    \"BatchNormalization\":prep_ext_layer,\n",
    "    \"ZeroPadding2D\":prep_ext_layer\n",
    "}"
   ]
  },
  {
   "cell_type": "code",
   "execution_count": 404,
   "metadata": {},
   "outputs": [],
   "source": [
    "def set_output(model,network:dict,levels:list,input_values:dict,input_config:dict):\n",
    "    temp_out = dict()\n",
    "    inputs = None\n",
    "    layer = None\n",
    "    layer_instance = None\n",
    "    layer_config = None\n",
    "    \n",
    "    for level in levels:\n",
    "        for layer in level:\n",
    "            layer_config = network[layer]\n",
    "            layer_instance = model.get_layer(layer)\n",
    "            inputs = None\n",
    "            if len(layer_config['inbound']):\n",
    "                if len(layer_config['inbound']) < 2:\n",
    "                    inputs,*_ = [temp_out[i] for i in layer_config['inbound']]\n",
    "                else:\n",
    "                    inputs = [temp_out[i] for i in layer_config['inbound']]\n",
    "                    \n",
    "                out = layer_instance(inputs)\n",
    "                temp_out[layer] = out\n",
    "                \n",
    "                network[layer]['outputs'] = get_outputs(\n",
    "                    tensor=out,\n",
    "                    layer={\n",
    "                        \"name\":layer,\n",
    "                        \"config\":layer_config,\n",
    "                        \"instance\":layer_instance\n",
    "                    },\n",
    "                    input_config=input_config,\n",
    "                    network=network,\n",
    "                    model=model\n",
    "                )\n",
    "            else:\n",
    "                inputs = input_values[layer]\n",
    "                out = layer_instance(inputs['value'].astype(np.float32))\n",
    "                temp_out[layer] = out\n",
    "                \n",
    "                network[layer]['outputs'] = prep_functions[layer_config['class_name']](\n",
    "                    value=out,\n",
    "                    layer ={\n",
    "                        \"name\":layer,\n",
    "                        \"config\":layer_config,\n",
    "                        \"instance\":layer_instance\n",
    "                    },\n",
    "                    input_config = input_config,\n",
    "                    network=network,\n",
    "                    model=model\n",
    "                )"
   ]
  },
  {
   "cell_type": "code",
   "execution_count": 405,
   "metadata": {
    "scrolled": false
   },
   "outputs": [
    {
     "name": "stderr",
     "output_type": "stream",
     "text": [
      "<ipython-input-403-5d5bc9da9347>:61: RuntimeWarning: invalid value encountered in true_divide\n",
      "  images = (((images - _min) / (_max - _min)).reshape(c,h,w)*255).astype(np.uint8)\n"
     ]
    }
   ],
   "source": [
    "set_output(model,network,levels,input_config['examples'][0],input_config['input_layers_config'])"
   ]
  },
  {
   "cell_type": "code",
   "execution_count": null,
   "metadata": {},
   "outputs": [],
   "source": [
    "skip_render = [\n",
    "    'ZeroPadding2D',\n",
    "    'Activation',\n",
    "    'BatchNormalization'\n",
    "]"
   ]
  }
 ],
 "metadata": {
  "kernelspec": {
   "display_name": "Python 3",
   "language": "python",
   "name": "python3"
  },
  "language_info": {
   "codemirror_mode": {
    "name": "ipython",
    "version": 3
   },
   "file_extension": ".py",
   "mimetype": "text/x-python",
   "name": "python",
   "nbconvert_exporter": "python",
   "pygments_lexer": "ipython3",
   "version": "3.8.0"
  }
 },
 "nbformat": 4,
 "nbformat_minor": 4
}
