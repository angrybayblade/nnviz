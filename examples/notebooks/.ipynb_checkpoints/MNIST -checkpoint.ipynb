{
 "cells": [
  {
   "cell_type": "code",
   "execution_count": 1,
   "metadata": {},
   "outputs": [],
   "source": [
    "import tensorflow as tf\n",
    "\n",
    "from tensorflow.keras import Sequential\n",
    "from tensorflow.keras.layers import *\n",
    "from tensorflow.keras.models import Model"
   ]
  },
  {
   "cell_type": "code",
   "execution_count": 16,
   "metadata": {},
   "outputs": [],
   "source": [
    "import cv2\n",
    "import base64\n",
    "\n",
    "import numpy as np\n",
    "import matplotlib.pyplot as plt\n",
    "\n",
    "from json import loads,dumps\n",
    "\n",
    "%matplotlib inline"
   ]
  },
  {
   "cell_type": "code",
   "execution_count": 17,
   "metadata": {},
   "outputs": [],
   "source": [
    "(X,Y),(x,y) = tf.keras.datasets.mnist.load_data()\n",
    "\n",
    "X = X.reshape(-1,784).astype(np.float32) / 255\n",
    "x = x.reshape(-1,784).astype(np.float32) / 255\n",
    "\n",
    "Y = tf.keras.utils.to_categorical(Y)\n",
    "y = tf.keras.utils.to_categorical(y)"
   ]
  },
  {
   "cell_type": "code",
   "execution_count": 18,
   "metadata": {},
   "outputs": [
    {
     "data": {
      "text/plain": [
       "<matplotlib.image.AxesImage at 0x28fa82f8e50>"
      ]
     },
     "execution_count": 18,
     "metadata": {},
     "output_type": "execute_result"
    },
    {
     "data": {
      "image/png": "[encoded data removed]",
      "text/plain": [
       "<Figure size 432x288 with 1 Axes>"
      ]
     },
     "metadata": {
      "needs_background": "light"
     },
     "output_type": "display_data"
    }
   ],
   "source": [
    "i = 40502\n",
    "plt.imshow(X[i:i+1].reshape(28,28))"
   ]
  },
  {
   "cell_type": "code",
   "execution_count": 241,
   "metadata": {},
   "outputs": [],
   "source": [
    "inp = Input(shape=(784,),name=\"input\")\n",
    "\n",
    "d1 = Dense(128,activation=\"relu\",name=\"dense1\")(inp)\n",
    "d2 = Dense(64,activation=\"relu\",name=\"dense2\")(d1)\n",
    "d3 = Dense(64,activation=\"relu\",name=\"dense3\")(d2)\n",
    "d4 = Dense(64,activation=\"relu\",name=\"dense4\")(d3)\n",
    "\n",
    "c1 = concatenate([d1,d4])\n",
    "\n",
    "d5 = Dense(32,activation=\"relu\",name=\"dense5\")(c1)\n",
    "\n",
    "out = Dense(10,activation=\"softmax\",name=\"out\")(d5)\n",
    "model = Model([inp],[out])"
   ]
  },
  {
   "cell_type": "code",
   "execution_count": 242,
   "metadata": {},
   "outputs": [
    {
     "name": "stdout",
     "output_type": "stream",
     "text": [
      "Model: \"model_4\"\n",
      "__________________________________________________________________________________________________\n",
      "Layer (type)                    Output Shape         Param #     Connected to                     \n",
      "==================================================================================================\n",
      "input (InputLayer)              [(None, 784)]        0                                            \n",
      "__________________________________________________________________________________________________\n",
      "dense1 (Dense)                  (None, 128)          100480      input[0][0]                      \n",
      "__________________________________________________________________________________________________\n",
      "dense2 (Dense)                  (None, 64)           8256        dense1[0][0]                     \n",
      "__________________________________________________________________________________________________\n",
      "dense3 (Dense)                  (None, 64)           4160        dense2[0][0]                     \n",
      "__________________________________________________________________________________________________\n",
      "dense4 (Dense)                  (None, 64)           4160        dense3[0][0]                     \n",
      "__________________________________________________________________________________________________\n",
      "concatenate_3 (Concatenate)     (None, 192)          0           dense1[0][0]                     \n",
      "                                                                 dense4[0][0]                     \n",
      "__________________________________________________________________________________________________\n",
      "dense5 (Dense)                  (None, 32)           6176        concatenate_3[0][0]              \n",
      "__________________________________________________________________________________________________\n",
      "out (Dense)                     (None, 10)           330         dense5[0][0]                     \n",
      "==================================================================================================\n",
      "Total params: 123,562\n",
      "Trainable params: 123,562\n",
      "Non-trainable params: 0\n",
      "__________________________________________________________________________________________________\n"
     ]
    }
   ],
   "source": [
    "model.summary()"
   ]
  },
  {
   "cell_type": "code",
   "execution_count": 243,
   "metadata": {},
   "outputs": [],
   "source": [
    "model.compile(loss=\"categorical_crossentropy\",optimizer=\"adam\",metrics=['accuracy'])"
   ]
  },
  {
   "cell_type": "code",
   "execution_count": 35,
   "metadata": {
    "scrolled": true
   },
   "outputs": [
    {
     "name": "stdout",
     "output_type": "stream",
     "text": [
      "1875/1875 [==============================] - 5s 3ms/step - loss: 0.2389 - accuracy: 0.9290 - val_loss: 0.1199 - val_accuracy: 0.9626\n"
     ]
    },
    {
     "data": {
      "text/plain": [
       "<tensorflow.python.keras.callbacks.History at 0x28fa88af7f0>"
      ]
     },
     "execution_count": 35,
     "metadata": {},
     "output_type": "execute_result"
    }
   ],
   "source": [
    "model.fit(X,Y,batch_size=32,epochs=1,validation_data=(x,y))"
   ]
  },
  {
   "cell_type": "code",
   "execution_count": 327,
   "metadata": {},
   "outputs": [],
   "source": [
    "input_config = {\n",
    "    \"examples\":[\n",
    "        {\n",
    "            \"input\":{ \n",
    "                \"value\":x[0:1]\n",
    "            },\n",
    "            \"some_other_input_layer\":{\n",
    "                \n",
    "            }\n",
    "        }\n",
    "    ],\n",
    "    \"input_layers_config\":{\n",
    "        \"input\":{\n",
    "            \"type\":\"image\",\n",
    "            \"shape\":(28,28),\n",
    "            \"transformer\":prepare_input_image,\n",
    "            \"resize\":(128,128)\n",
    "        }\n",
    "    },\n",
    "    \"input_nodes\":['input']\n",
    "}"
   ]
  },
  {
   "cell_type": "code",
   "execution_count": 328,
   "metadata": {},
   "outputs": [],
   "source": [
    "def image2base64(image:np.ndarray,norm:bool=True)->str:\n",
    "    image = ( image * ( 255 if norm else 1 ) ).astype(np.uint8)\n",
    "    image = cv2.resize(image,(128,128))\n",
    "    retval, buffer = cv2.imencode('.png', image)\n",
    "    buffer = base64.b64encode(buffer)\n",
    "    return 'data:image/png;base64,' + str(buffer,encoding=\"utf-8\")\n",
    "\n",
    "def prep_conv2d(value:np.ndarray,*args,**kwargs)->list:\n",
    "    _,h,w,c = value.shape\n",
    "    images = value.reshape(c,h,w)\n",
    "    return [ image2base64(image) for image in images ]\n",
    "\n",
    "def prep_dense(value:np.ndarray,*args,**kwargs)->list:\n",
    "    return ((value.astype(float) / value.max())[0]).tolist()\n",
    "    \n",
    "def prepare_input_image(image:np.ndarray,input_config):\n",
    "    image = image.reshape(input_config['shape'])\n",
    "    return image2base64(image)\n",
    "\n",
    "def prep_input_layer(value,layer:tf.keras.layers.Layer,input_config:dict,*args,**kwargs):\n",
    "    return input_config['transformer'](value,input_config)\n",
    "    \n",
    "def prep_lstm(value:np.ndarray,layer:tf.keras.layers.Layer,*args,**kwargs):\n",
    "    if layer.return_sequences:\n",
    "        value,*_ = value\n",
    "        _min = value.min(axis=1).reshape(-1,1)\n",
    "        _max = value.max(axis=1).reshape(-1,1)\n",
    "        value = ((value - _min)/(_max - _min))\n",
    "        value[np.isnan(value)] = 0\n",
    "        return value.astype(float).tolist()\n",
    "        \n",
    "    return ((value / value.max())[0]).tolist()\n",
    "    \n",
    "prep_functions = {\n",
    "    \"Conv2D\":prep_conv2d,\n",
    "    \"Dense\":prep_dense,\n",
    "    \"InputLayer\":prep_input_layer,\n",
    "    \"MaxPooling2D\":prep_conv2d,\n",
    "    \"Flatten\":prep_dense,\n",
    "    \"LSTM\":prep_lstm,\n",
    "    \"Concatenate\":prep_dense\n",
    "}"
   ]
  },
  {
   "cell_type": "code",
   "execution_count": 343,
   "metadata": {},
   "outputs": [],
   "source": [
    "\n",
    "\n",
    "# inp = Input(shape=(784,),name=\"input\")\n",
    "\n",
    "# d1 = Dense(64,activation=\"relu\",name=\"dense1\")(inp)\n",
    "# d2 = Dense(64,activation=\"relu\",name=\"dense2\")(inp)\n",
    "# c1 = concatenate([d1,d2])\n",
    "\n",
    "# d3 = Dense(32,activation=\"relu\",name=\"dense5\")(c1)\n",
    "\n",
    "# out = Dense(10,activation=\"softmax\",name=\"out\")(d3)\n",
    "# model_conc = Model([inp],[out])"
   ]
  },
  {
   "cell_type": "code",
   "execution_count": 344,
   "metadata": {},
   "outputs": [],
   "source": [
    "def set_levels(network,input_nodes,level):\n",
    "    for node in input_nodes:\n",
    "        if network[node]['level']:            \n",
    "            set_levels(network,network[node]['outbound'],network[node]['level']+1)\n",
    "        else:\n",
    "            network[node]['level'] = level\n",
    "            if len(network[node]['outbound']):\n",
    "                for ob in network[node]['outbound']:\n",
    "                    network[ob]['level'] = level + 1\n",
    "            set_levels(network,network[node]['outbound'],network[node]['level']+1)\n",
    "        \n",
    "\n",
    "        \n",
    "def get_conf(model:tf.keras.models.Model,input_config:dict):\n",
    "    model_conf = loads(model.to_json())\n",
    "    network = {\n",
    "        l['name']:{\n",
    "            \"inbound\":[],\n",
    "            \"outbound\":[],\n",
    "            \"class_name\":l['class_name'],\n",
    "            \"level\":False\n",
    "        } for l in model_conf['config']['layers']\n",
    "    }\n",
    "\n",
    "    for l in model_conf['config']['layers']:\n",
    "        if len(l['inbound_nodes']):\n",
    "            for n in l['inbound_nodes'][0]:\n",
    "                network[l['name']]['inbound'].append(n[0])\n",
    "                network[n[0]]['outbound'].append(l['name'])\n",
    "\n",
    "    set_levels(network,input_config['input_nodes'],0)\n",
    "    levels = [[] for i in range(max([i['level'] for _,i in network.items()])+1)]\n",
    "    for node,val in network.items():\n",
    "        levels[val['level']].append(node)\n",
    "\n",
    "    return network,levels"
   ]
  },
  {
   "cell_type": "code",
   "execution_count": 350,
   "metadata": {},
   "outputs": [],
   "source": [
    "def set_output(model,network:dict,levels:list,input_values:dict,input_config:dict):\n",
    "    temp_out = dict()\n",
    "    for level in levels:\n",
    "        for layer in level:\n",
    "            layer_ = network[layer]\n",
    "            _layer = model.get_layer(layer)\n",
    "            if len(layer_['inbound']):\n",
    "                if len(layer_['inbound']) < 2:\n",
    "                    inputs,*_ = [temp_out[i] for i in layer_['inbound']]\n",
    "                    out = _layer(inputs)\n",
    "                    temp_out[layer] = out\n",
    "                    network[layer]['outputs'] = prep_functions[layer_['class_name']](\n",
    "                        value=out.numpy(),\n",
    "                        layer=_layer,\n",
    "                        input_config=input_config\n",
    "                    )\n",
    "                else:\n",
    "                    inputs = [temp_out[i] for i in layer_['inbound']]\n",
    "                    out = _layer(inputs)\n",
    "                    temp_out[layer] = out\n",
    "                    network[layer]['outputs'] = prep_functions[layer_['class_name']](\n",
    "                        value=out.numpy(),\n",
    "                        layer=_layer,\n",
    "                        input_config=input_config\n",
    "                    )\n",
    "            else:\n",
    "                inputs = input_values[layer]\n",
    "                out = _layer(inputs['value'])\n",
    "                temp_out[layer] = out\n",
    "                network[layer]['outputs'] = prep_functions[layer_['class_name']](\n",
    "                    value=out.numpy(),\n",
    "                    layer = _layer,\n",
    "                    input_config = input_config[layer]\n",
    "                )"
   ]
  },
  {
   "cell_type": "code",
   "execution_count": 358,
   "metadata": {},
   "outputs": [],
   "source": [
    "inp = Input(shape=(784,),name=\"input\")\n",
    "\n",
    "d1 = Dense(128,activation=\"relu\",name=\"dense1\")(inp)\n",
    "d2 = Dense(64,activation=\"relu\",name=\"dense2\")(d1)\n",
    "d3 = Dense(64,activation=\"relu\",name=\"dense4\")(d2)\n",
    "\n",
    "c1 = concatenate([d1,d3])\n",
    "d4 = Dense(32,activation=\"relu\",name=\"dense5\")(c1)\n",
    "\n",
    "out = Dense(10,activation=\"softmax\",name=\"out\")(d4)\n",
    "model = Model([inp],[out])"
   ]
  },
  {
   "cell_type": "code",
   "execution_count": 359,
   "metadata": {},
   "outputs": [],
   "source": [
    "network,levels = get_conf(model,input_config)"
   ]
  },
  {
   "cell_type": "code",
   "execution_count": 360,
   "metadata": {},
   "outputs": [
    {
     "data": {
      "text/plain": [
       "[['input'],\n",
       " ['dense1'],\n",
       " ['dense2'],\n",
       " ['dense4'],\n",
       " ['concatenate_23'],\n",
       " ['dense5'],\n",
       " ['out']]"
      ]
     },
     "execution_count": 360,
     "metadata": {},
     "output_type": "execute_result"
    }
   ],
   "source": [
    "levels"
   ]
  },
  {
   "cell_type": "code",
   "execution_count": 364,
   "metadata": {},
   "outputs": [
    {
     "name": "stdout",
     "output_type": "stream",
     "text": [
      "Model: \"model_24\"\n",
      "__________________________________________________________________________________________________\n",
      "Layer (type)                    Output Shape         Param #     Connected to                     \n",
      "==================================================================================================\n",
      "input (InputLayer)              [(None, 784)]        0                                            \n",
      "__________________________________________________________________________________________________\n",
      "dense1 (Dense)                  (None, 128)          100480      input[0][0]                      \n",
      "__________________________________________________________________________________________________\n",
      "dense2 (Dense)                  (None, 64)           8256        dense1[0][0]                     \n",
      "__________________________________________________________________________________________________\n",
      "dense4 (Dense)                  (None, 64)           4160        dense2[0][0]                     \n",
      "__________________________________________________________________________________________________\n",
      "concatenate_23 (Concatenate)    (None, 192)          0           dense1[0][0]                     \n",
      "                                                                 dense4[0][0]                     \n",
      "__________________________________________________________________________________________________\n",
      "dense5 (Dense)                  (None, 32)           6176        concatenate_23[0][0]             \n",
      "__________________________________________________________________________________________________\n",
      "out (Dense)                     (None, 10)           330         dense5[0][0]                     \n",
      "==================================================================================================\n",
      "Total params: 119,402\n",
      "Trainable params: 119,402\n",
      "Non-trainable params: 0\n",
      "__________________________________________________________________________________________________\n"
     ]
    }
   ],
   "source": [
    "model.summary()"
   ]
  },
  {
   "cell_type": "code",
   "execution_count": 365,
   "metadata": {},
   "outputs": [],
   "source": [
    "set_output(model,network,levels,input_config['examples'][0],input_config['input_layers_config'])"
   ]
  },
  {
   "cell_type": "code",
   "execution_count": null,
   "metadata": {},
   "outputs": [],
   "source": []
  },
  {
   "cell_type": "code",
   "execution_count": null,
   "metadata": {},
   "outputs": [],
   "source": []
  },
  {
   "cell_type": "code",
   "execution_count": 18,
   "metadata": {},
   "outputs": [
    {
     "data": {
      "text/plain": [
       "2305"
      ]
     },
     "execution_count": 18,
     "metadata": {},
     "output_type": "execute_result"
    }
   ],
   "source": [
    "model.save_weights(\"./saved_model/mnist_dense\")\n",
    "open(\"./saved_model/mnist_dense.json\",\"w+\").write(model.to_json())"
   ]
  }
 ],
 "metadata": {
  "kernelspec": {
   "display_name": "Python 3",
   "language": "python",
   "name": "python3"
  },
  "language_info": {
   "codemirror_mode": {
    "name": "ipython",
    "version": 3
   },
   "file_extension": ".py",
   "mimetype": "text/x-python",
   "name": "python",
   "nbconvert_exporter": "python",
   "pygments_lexer": "ipython3",
   "version": "3.8.0"
  }
 },
 "nbformat": 4,
 "nbformat_minor": 4
}
