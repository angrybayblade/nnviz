{
 "cells": [
  {
   "cell_type": "code",
   "execution_count": 1,
   "metadata": {},
   "outputs": [],
   "source": [
    "import tensorflow as tf\n",
    "\n",
    "from tensorflow.keras import Sequential\n",
    "from tensorflow.keras.layers import *\n",
    "from tensorflow.keras.models import Model"
   ]
  },
  {
   "cell_type": "code",
   "execution_count": 2,
   "metadata": {},
   "outputs": [],
   "source": [
    "import numpy as np\n",
    "import matplotlib.pyplot as plt\n",
    "\n",
    "from json import loads,dumps\n",
    "\n",
    "%matplotlib inline"
   ]
  },
  {
   "cell_type": "code",
   "execution_count": 3,
   "metadata": {},
   "outputs": [],
   "source": [
    "(X,Y),(x,y) = tf.keras.datasets.mnist.load_data()\n",
    "\n",
    "X = X.reshape(-1,784).astype(np.float32) / 255\n",
    "x = x.reshape(-1,784).astype(np.float32) / 255\n",
    "\n",
    "Y = tf.keras.utils.to_categorical(Y)\n",
    "y = tf.keras.utils.to_categorical(y)"
   ]
  },
  {
   "cell_type": "code",
   "execution_count": 4,
   "metadata": {},
   "outputs": [
    {
     "data": {
      "text/plain": [
       "<matplotlib.image.AxesImage at 0x2678d08a340>"
      ]
     },
     "execution_count": 4,
     "metadata": {},
     "output_type": "execute_result"
    },
    {
     "data": {
      "image/png": "[encoded data removed]",
      "text/plain": [
       "<Figure size 432x288 with 1 Axes>"
      ]
     },
     "metadata": {
      "needs_background": "light"
     },
     "output_type": "display_data"
    }
   ],
   "source": [
    "i = 40502\n",
    "plt.imshow(X[i:i+1].reshape(28,28))"
   ]
  },
  {
   "cell_type": "code",
   "execution_count": 5,
   "metadata": {},
   "outputs": [],
   "source": [
    "inp = Input(shape=(784,),name=\"input\")\n",
    "d1 = Dense(128,activation=\"relu\",name=\"dense1\")(inp)\n",
    "\n",
    "d2 = Dense(32,activation=\"relu\",name=\"dense20\")(d1)\n",
    "d3 = Dense(16,activation=\"relu\",name=\"dense21\")(d2)\n",
    "\n",
    "out = Dense(10,activation=\"softmax\",name=\"out\")(d3)\n",
    "model = Model([inp],[out])"
   ]
  },
  {
   "cell_type": "code",
   "execution_count": 6,
   "metadata": {},
   "outputs": [
    {
     "name": "stdout",
     "output_type": "stream",
     "text": [
      "Model: \"model\"\n",
      "_________________________________________________________________\n",
      "Layer (type)                 Output Shape              Param #   \n",
      "=================================================================\n",
      "input (InputLayer)           [(None, 784)]             0         \n",
      "_________________________________________________________________\n",
      "dense1 (Dense)               (None, 128)               100480    \n",
      "_________________________________________________________________\n",
      "dense20 (Dense)              (None, 32)                4128      \n",
      "_________________________________________________________________\n",
      "dense21 (Dense)              (None, 16)                528       \n",
      "_________________________________________________________________\n",
      "out (Dense)                  (None, 10)                170       \n",
      "=================================================================\n",
      "Total params: 105,306\n",
      "Trainable params: 105,306\n",
      "Non-trainable params: 0\n",
      "_________________________________________________________________\n"
     ]
    }
   ],
   "source": [
    "model.summary()"
   ]
  },
  {
   "cell_type": "code",
   "execution_count": 7,
   "metadata": {},
   "outputs": [],
   "source": [
    "model.compile(loss=\"categorical_crossentropy\",optimizer=\"adam\",metrics=['accuracy'])"
   ]
  },
  {
   "cell_type": "code",
   "execution_count": 8,
   "metadata": {
    "scrolled": true
   },
   "outputs": [
    {
     "name": "stdout",
     "output_type": "stream",
     "text": [
      "1875/1875 [==============================] - 4s 2ms/step - loss: 0.3159 - accuracy: 0.9046 - val_loss: 0.1665 - val_accuracy: 0.9483\n"
     ]
    },
    {
     "data": {
      "text/plain": [
       "<tensorflow.python.keras.callbacks.History at 0x2678d62aa90>"
      ]
     },
     "execution_count": 8,
     "metadata": {},
     "output_type": "execute_result"
    }
   ],
   "source": [
    "model.fit(X,Y,batch_size=32,epochs=1,validation_data=(x,y))"
   ]
  },
  {
   "cell_type": "code",
   "execution_count": 9,
   "metadata": {},
   "outputs": [],
   "source": [
    "def setLevels(network:dict,inputNodes:list,currentLevel:int=0):\n",
    "    for node in inputNodes:\n",
    "        network[node]['level'] = currentLevel\n",
    "        setLevels(network,network[node]['outbound'],currentLevel+1)\n",
    "\n",
    "def getNetworkConf(model,inputNodes:list):\n",
    "    modelConf = loads(model.to_json())\n",
    "    network = {\n",
    "        l['name']:{\n",
    "            \"inbound\":[],\n",
    "            \"outbound\":[],\n",
    "            \"class_name\":l['class_name']\n",
    "        } for l in modelConf['config']['layers']\n",
    "    }\n",
    "\n",
    "    for l in modelConf['config']['layers']:\n",
    "        if len(l['inbound_nodes']):\n",
    "            for n in l['inbound_nodes'][0]:\n",
    "                network[l['name']]['inbound'].append(n[0])\n",
    "                network[n[0]]['outbound'].append(l['name'])\n",
    "                \n",
    "    setLevels(network,inputNodes,0)\n",
    "    levels = [[] for i in range(max([i['level'] for _,i in network.items()])+1)]\n",
    "    for node,val in network.items():\n",
    "        levels[val['level']].append(node)\n",
    "    return network,levels\n",
    "\n",
    "def setOutput(model,network:dict,levels:list,input_values:dict):\n",
    "    tempOut = dict()\n",
    "    for level in levels:\n",
    "        for layer in level:\n",
    "            layer_ = network[layer]\n",
    "            if len(layer_['inbound']):\n",
    "                if len(layer_['inbound']) < 2:\n",
    "                    inputs,*_ = [tempOut[i] for i in layer_['inbound']]\n",
    "                    out = model.get_layer(layer)(inputs)\n",
    "                    tempOut[layer] = out\n",
    "                    network[layer]['outputs'] = list((out.numpy().astype(float) / out.numpy().max())[0])\n",
    "                else:\n",
    "                    inputs = [tempOut[i] for i in layer_['inbound']]\n",
    "                    out = model.get_layer(layer)(inputs)\n",
    "                    tempOut[layer] = out\n",
    "                    network[layer]['outputs'] = list((out.numpy().astype(float) / out.numpy().max())[0])\n",
    "            else:\n",
    "                inputs = input_values[layer]\n",
    "                out = model.get_layer(layer)(inputs)\n",
    "                tempOut[layer] = out\n",
    "                network[layer]['outputs'] = list((out.numpy().astype(float) / out.numpy().max())[0])"
   ]
  },
  {
   "cell_type": "code",
   "execution_count": 10,
   "metadata": {},
   "outputs": [],
   "source": [
    "network,levels = getNetworkConf(model,['input'])"
   ]
  },
  {
   "cell_type": "code",
   "execution_count": 11,
   "metadata": {},
   "outputs": [
    {
     "data": {
      "text/plain": [
       "({'input': {'inbound': [],\n",
       "   'outbound': ['dense1'],\n",
       "   'class_name': 'InputLayer',\n",
       "   'level': 0},\n",
       "  'dense1': {'inbound': ['input'],\n",
       "   'outbound': ['dense20'],\n",
       "   'class_name': 'Dense',\n",
       "   'level': 1},\n",
       "  'dense20': {'inbound': ['dense1'],\n",
       "   'outbound': ['dense21'],\n",
       "   'class_name': 'Dense',\n",
       "   'level': 2},\n",
       "  'dense21': {'inbound': ['dense20'],\n",
       "   'outbound': ['out'],\n",
       "   'class_name': 'Dense',\n",
       "   'level': 3},\n",
       "  'out': {'inbound': ['dense21'],\n",
       "   'outbound': [],\n",
       "   'class_name': 'Dense',\n",
       "   'level': 4}},\n",
       " [['input'], ['dense1'], ['dense20'], ['dense21'], ['out']])"
      ]
     },
     "execution_count": 11,
     "metadata": {},
     "output_type": "execute_result"
    }
   ],
   "source": [
    "network,levels"
   ]
  },
  {
   "cell_type": "code",
   "execution_count": 12,
   "metadata": {},
   "outputs": [],
   "source": [
    "inputValues = {\n",
    "    'input':X[0:1]\n",
    "}"
   ]
  },
  {
   "cell_type": "code",
   "execution_count": 13,
   "metadata": {},
   "outputs": [],
   "source": [
    "setOutput(model,network,levels,input_values=inputValues)"
   ]
  },
  {
   "cell_type": "code",
   "execution_count": 14,
   "metadata": {},
   "outputs": [],
   "source": [
    "response = {\n",
    "    \"network\":network,\n",
    "    \"levels\":levels\n",
    "}"
   ]
  },
  {
   "cell_type": "code",
   "execution_count": 15,
   "metadata": {},
   "outputs": [
    {
     "data": {
      "text/plain": [
       "9541"
      ]
     },
     "execution_count": 15,
     "metadata": {},
     "output_type": "execute_result"
    }
   ],
   "source": [
    "open(\"../../test/dense.json\",\"w+\").write(dumps(response))"
   ]
  },
  {
   "cell_type": "code",
   "execution_count": 16,
   "metadata": {},
   "outputs": [
    {
     "data": {
      "text/plain": [
       "2311"
      ]
     },
     "execution_count": 16,
     "metadata": {},
     "output_type": "execute_result"
    }
   ],
   "source": [
    "model.save_weights(\"./saved_model/mnist_dense\")\n",
    "open(\"./saved_model/mnist_dense.json\",\"w+\").write(model.to_json())"
   ]
  }
 ],
 "metadata": {
  "kernelspec": {
   "display_name": "Python 3",
   "language": "python",
   "name": "python3"
  },
  "language_info": {
   "codemirror_mode": {
    "name": "ipython",
    "version": 3
   },
   "file_extension": ".py",
   "mimetype": "text/x-python",
   "name": "python",
   "nbconvert_exporter": "python",
   "pygments_lexer": "ipython3",
   "version": "3.8.0"
  }
 },
 "nbformat": 4,
 "nbformat_minor": 4
}
