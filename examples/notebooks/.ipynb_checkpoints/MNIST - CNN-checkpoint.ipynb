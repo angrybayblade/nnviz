{
 "cells": [
  {
   "cell_type": "code",
   "execution_count": 1,
   "metadata": {},
   "outputs": [],
   "source": [
    "import tensorflow as tf\n",
    "\n",
    "from tensorflow.keras import Sequential\n",
    "from tensorflow.keras.layers import *\n",
    "from tensorflow.keras.models import Model"
   ]
  },
  {
   "cell_type": "code",
   "execution_count": 2,
   "metadata": {},
   "outputs": [],
   "source": [
    "import numpy as np\n",
    "import matplotlib.pyplot as plt\n",
    "\n",
    "from json import loads,dumps\n",
    "import cv2\n",
    "import base64\n",
    "\n",
    "%matplotlib inline"
   ]
  },
  {
   "cell_type": "code",
   "execution_count": 3,
   "metadata": {},
   "outputs": [],
   "source": [
    "(X,Y),(x,y) = tf.keras.datasets.mnist.load_data()\n",
    "\n",
    "X = X.reshape(-1,28,28,1).astype(np.float32) / 255\n",
    "x = x.reshape(-1,28,28,1).astype(np.float32) / 255\n",
    "\n",
    "Y = tf.keras.utils.to_categorical(Y)\n",
    "y = tf.keras.utils.to_categorical(y)"
   ]
  },
  {
   "cell_type": "code",
   "execution_count": 4,
   "metadata": {},
   "outputs": [
    {
     "data": {
      "text/plain": [
       "<matplotlib.image.AxesImage at 0x1f265d5fb50>"
      ]
     },
     "execution_count": 4,
     "metadata": {},
     "output_type": "execute_result"
    },
    {
     "data": {
      "image/png": "[encoded data removed]",
      "text/plain": [
       "<Figure size 432x288 with 1 Axes>"
      ]
     },
     "metadata": {
      "needs_background": "light"
     },
     "output_type": "display_data"
    }
   ],
   "source": [
    "i = 40502\n",
    "plt.imshow(X[i:i+1].reshape(28,28))"
   ]
  },
  {
   "cell_type": "code",
   "execution_count": 5,
   "metadata": {},
   "outputs": [],
   "source": [
    "inp = Input(shape=(28,28,1),name=\"input\")\n",
    "\n",
    "c1 = Conv2D(16,3,activation=\"relu\",padding=\"same\",name=\"c1\")(inp)\n",
    "c2 = Conv2D(16,3,activation=\"relu\",padding=\"same\",name=\"c2\")(c1)\n",
    "m1 = MaxPool2D(name=\"m1\")(c2)\n",
    "\n",
    "c2 = Conv2D(32,3,activation=\"relu\",padding=\"same\",name=\"c3\")(m1)\n",
    "c3 = Conv2D(32,3,activation=\"relu\",padding=\"same\",name=\"c4\")(c2)\n",
    "m2 = MaxPool2D(name=\"m2\")(c2)\n",
    "\n",
    "c4 = Conv2D(64,3,activation=\"relu\",padding=\"same\",name=\"c5\")(m2)\n",
    "c5 = Conv2D(64,3,activation=\"relu\",padding=\"same\",name=\"c6\")(c4)\n",
    "m3 = MaxPool2D(name=\"m3\")(c5)\n",
    "\n",
    "c6 = Conv2D(64,3,activation=\"relu\",padding=\"same\",name=\"c70\")(m3)\n",
    "c7 = Conv2D(64,3,activation=\"relu\",padding=\"same\",name=\"c71\")(c6)\n",
    "m4 = MaxPool2D(name=\"m4\")(c7)\n",
    "\n",
    "f1 = Flatten()(m4)\n",
    "out = Dense(10,activation=\"softmax\",name=\"out\")(f1)\n",
    "\n",
    "model = Model([inp],[out])"
   ]
  },
  {
   "cell_type": "code",
   "execution_count": 6,
   "metadata": {},
   "outputs": [
    {
     "name": "stdout",
     "output_type": "stream",
     "text": [
      "Model: \"model\"\n",
      "_________________________________________________________________\n",
      "Layer (type)                 Output Shape              Param #   \n",
      "=================================================================\n",
      "input (InputLayer)           [(None, 28, 28, 1)]       0         \n",
      "_________________________________________________________________\n",
      "c1 (Conv2D)                  (None, 28, 28, 16)        160       \n",
      "_________________________________________________________________\n",
      "c2 (Conv2D)                  (None, 28, 28, 16)        2320      \n",
      "_________________________________________________________________\n",
      "m1 (MaxPooling2D)            (None, 14, 14, 16)        0         \n",
      "_________________________________________________________________\n",
      "c3 (Conv2D)                  (None, 14, 14, 32)        4640      \n",
      "_________________________________________________________________\n",
      "m2 (MaxPooling2D)            (None, 7, 7, 32)          0         \n",
      "_________________________________________________________________\n",
      "c5 (Conv2D)                  (None, 7, 7, 64)          18496     \n",
      "_________________________________________________________________\n",
      "c6 (Conv2D)                  (None, 7, 7, 64)          36928     \n",
      "_________________________________________________________________\n",
      "m3 (MaxPooling2D)            (None, 3, 3, 64)          0         \n",
      "_________________________________________________________________\n",
      "c70 (Conv2D)                 (None, 3, 3, 64)          36928     \n",
      "_________________________________________________________________\n",
      "c71 (Conv2D)                 (None, 3, 3, 64)          36928     \n",
      "_________________________________________________________________\n",
      "m4 (MaxPooling2D)            (None, 1, 1, 64)          0         \n",
      "_________________________________________________________________\n",
      "flatten (Flatten)            (None, 64)                0         \n",
      "_________________________________________________________________\n",
      "out (Dense)                  (None, 10)                650       \n",
      "=================================================================\n",
      "Total params: 137,050\n",
      "Trainable params: 137,050\n",
      "Non-trainable params: 0\n",
      "_________________________________________________________________\n"
     ]
    }
   ],
   "source": [
    "model.summary()"
   ]
  },
  {
   "cell_type": "code",
   "execution_count": 7,
   "metadata": {},
   "outputs": [],
   "source": [
    "model.compile(loss=\"categorical_crossentropy\",optimizer=\"adam\",metrics=['accuracy'])"
   ]
  },
  {
   "cell_type": "code",
   "execution_count": 8,
   "metadata": {
    "scrolled": true
   },
   "outputs": [
    {
     "name": "stdout",
     "output_type": "stream",
     "text": [
      "1875/1875 [==============================] - 11s 6ms/step - loss: 0.1567 - accuracy: 0.9506 - val_loss: 0.0383 - val_accuracy: 0.9864\n"
     ]
    },
    {
     "data": {
      "text/plain": [
       "<tensorflow.python.keras.callbacks.History at 0x1f2685bc2b0>"
      ]
     },
     "execution_count": 8,
     "metadata": {},
     "output_type": "execute_result"
    }
   ],
   "source": [
    "model.fit(X,Y,batch_size=32,epochs=1,validation_data=(x,y))"
   ]
  },
  {
   "cell_type": "code",
   "execution_count": 121,
   "metadata": {},
   "outputs": [],
   "source": []
  },
  {
   "cell_type": "code",
   "execution_count": 122,
   "metadata": {},
   "outputs": [],
   "source": [
    "def image2base64(image:np.ndarray,norm:bool=True)->str:\n",
    "    image = ( image * ( 255 if norm else 1 ) ).astype(np.uint8)\n",
    "    image = cv2.resize(image,(128,128))\n",
    "    retval, buffer = cv2.imencode('.png', image)\n",
    "    buffer = base64.b64encode(buffer)\n",
    "    return 'data:image/png;base64,' + str(buffer,encoding=\"utf-8\")\n",
    "\n",
    "def prepConv2D(output:np.ndarray)->list:\n",
    "    _,h,w,c = output.shape\n",
    "    images = output.reshape(c,h,w)\n",
    "    return [ image2base64(image) for image in images ]\n",
    "\n",
    "def prepDense(output:np.ndarray)->list:\n",
    "    return list((output.astype(float) / output.max())[0])\n",
    "    \n",
    "def prepareInputImage(image:np.ndarray,input_config):\n",
    "    image = image.reshape(input_config['shape'])\n",
    "    return image2base64(image)\n",
    "\n",
    "def prepInputLayer(image,layer):\n",
    "    layer = layer.get_config()\n",
    "    input_config  = input_configs[layer['name']]\n",
    "    return input_config['transformer'](image,input_config)\n",
    "    \n",
    "prepFunctions = {\n",
    "    \"Conv2D\":prepConv2D,\n",
    "    \"Dense\":prepDense,\n",
    "    \"InputLayer\":prepInputLayer,\n",
    "    \"MaxPooling2D\":prepConv2D,\n",
    "    \"Flatten\":prepDense\n",
    "}"
   ]
  },
  {
   "cell_type": "code",
   "execution_count": 141,
   "metadata": {},
   "outputs": [],
   "source": [
    "input_config = {\n",
    "    \"examples\":{\n",
    "        f\"{i}_class_{str(y[i])}\":{\n",
    "            \"output_class\": str(y[i].argmax()),\n",
    "            \"input\":x[i:i+1],\n",
    "            \"transform\":\"image\"\n",
    "        }\n",
    "        for i in np.random.randint(0,len(x),10)\n",
    "    },\n",
    "    \"layer_config\":{\n",
    "        \"input\":{\n",
    "            \"type\":\"image\",\n",
    "            \"shape\":(28,28),\n",
    "            \"transformer\":\"prepareInputImage\",\n",
    "            \"resize\":(128,128)\n",
    "        }\n",
    "    },\n",
    "    \"input_nodes\":['input']\n",
    "}"
   ]
  },
  {
   "cell_type": "code",
   "execution_count": 148,
   "metadata": {},
   "outputs": [],
   "source": [
    "def set_levels(network:dict,inputNodes:list,currentLevel:int=0):\n",
    "    for node in inputNodes:\n",
    "        network[node]['level'] = currentLevel\n",
    "        setLevels(network,network[node]['outbound'],currentLevel+1)\n",
    "\n",
    "def get_network_conf(model,input_nodes:list):\n",
    "    model_conf = loads(model.to_json())\n",
    "    network = {\n",
    "        l['name']:{\n",
    "            \"inbound\":[],\n",
    "            \"outbound\":[],\n",
    "            \"class_name\":l['class_name']\n",
    "        } for l in model_conf['config']['layers']\n",
    "    }\n",
    "    \n",
    "    for l in model_conf['config']['layers']:\n",
    "        if len(l['inbound_nodes']):\n",
    "            for n in l['inbound_nodes'][0]:\n",
    "                network[l['name']]['inbound'].append(n[0])\n",
    "                network[n[0]]['outbound'].append(l['name'])\n",
    "                \n",
    "    setLevels(network,input_nodes,0)\n",
    "    levels = [[] for i in range(max([i['level'] for _,i in network.items()])+1)]\n",
    "    for node,val in network.items():\n",
    "        levels[val['level']].append(node)\n",
    "    return network,levels"
   ]
  },
  {
   "cell_type": "code",
   "execution_count": 149,
   "metadata": {},
   "outputs": [
    {
     "name": "stdout",
     "output_type": "stream",
     "text": [
      "{'input': {'inbound': [], 'outbound': [], 'class_name': 'InputLayer'}, 'c1': {'inbound': [], 'outbound': [], 'class_name': 'Conv2D'}, 'c2': {'inbound': [], 'outbound': [], 'class_name': 'Conv2D'}, 'm1': {'inbound': [], 'outbound': [], 'class_name': 'MaxPooling2D'}, 'c3': {'inbound': [], 'outbound': [], 'class_name': 'Conv2D'}, 'm2': {'inbound': [], 'outbound': [], 'class_name': 'MaxPooling2D'}, 'c5': {'inbound': [], 'outbound': [], 'class_name': 'Conv2D'}, 'c6': {'inbound': [], 'outbound': [], 'class_name': 'Conv2D'}, 'm3': {'inbound': [], 'outbound': [], 'class_name': 'MaxPooling2D'}, 'c70': {'inbound': [], 'outbound': [], 'class_name': 'Conv2D'}, 'c71': {'inbound': [], 'outbound': [], 'class_name': 'Conv2D'}, 'm4': {'inbound': [], 'outbound': [], 'class_name': 'MaxPooling2D'}, 'flatten': {'inbound': [], 'outbound': [], 'class_name': 'Flatten'}, 'out': {'inbound': [], 'outbound': [], 'class_name': 'Dense'}}\n"
     ]
    }
   ],
   "source": [
    "network,levels = getNetworkConf(model,input_config['input_nodes'])"
   ]
  },
  {
   "cell_type": "code",
   "execution_count": null,
   "metadata": {},
   "outputs": [],
   "source": []
  },
  {
   "cell_type": "code",
   "execution_count": null,
   "metadata": {},
   "outputs": [],
   "source": []
  },
  {
   "cell_type": "code",
   "execution_count": null,
   "metadata": {},
   "outputs": [],
   "source": [
    "def setOutput(model,network:dict,levels:list,input_values:dict):\n",
    "    tempOut = dict()\n",
    "    for level in levels:\n",
    "        for layer in level:\n",
    "            layer_ = network[layer]\n",
    "            if len(layer_['inbound']):\n",
    "                if len(layer_['inbound']) < 2:\n",
    "                    inputs,*_ = [tempOut[i] for i in layer_['inbound']]\n",
    "                    out = model.get_layer(layer)(inputs)\n",
    "                    tempOut[layer] = out\n",
    "                    network[layer]['outputs'] = prepFunctions[layer_['class_name']](out.numpy())\n",
    "                else:\n",
    "                    inputs = [tempOut[i] for i in layer_['inbound']]\n",
    "                    out = model.get_layer(layer)(inputs)\n",
    "                    tempOut[layer] = out\n",
    "                    network[layer]['outputs'] = prepFunctions[layer_['class_name']](out.numpy())\n",
    "            else:\n",
    "                print (layer)\n",
    "                inputs = input_values[layer]\n",
    "                out = model.get_layer(layer)(inputs)\n",
    "                tempOut[layer] = out\n",
    "                network[layer]['outputs'] = prepFunctions[layer_['class_name']](out.numpy(),model.get_layer(layer))"
   ]
  },
  {
   "cell_type": "code",
   "execution_count": null,
   "metadata": {},
   "outputs": [],
   "source": []
  },
  {
   "cell_type": "code",
   "execution_count": 15,
   "metadata": {},
   "outputs": [],
   "source": [
    "response = {\n",
    "    \"network\":network,\n",
    "    \"levels\":levels\n",
    "}"
   ]
  },
  {
   "cell_type": "code",
   "execution_count": 17,
   "metadata": {},
   "outputs": [
    {
     "data": {
      "text/plain": [
       "113064"
      ]
     },
     "execution_count": 17,
     "metadata": {},
     "output_type": "execute_result"
    }
   ],
   "source": [
    "open(\"../../test/dense.json\",\"w+\").write(dumps(response))"
   ]
  },
  {
   "cell_type": "code",
   "execution_count": 18,
   "metadata": {},
   "outputs": [
    {
     "data": {
      "text/plain": [
       "6183"
      ]
     },
     "execution_count": 18,
     "metadata": {},
     "output_type": "execute_result"
    }
   ],
   "source": [
    "model.save_weights(\"./saved_model/mnist_conv\")\n",
    "open(\"./saved_model/mnist_conv.json\",\"w+\").write(model.to_json())"
   ]
  },
  {
   "cell_type": "code",
   "execution_count": null,
   "metadata": {},
   "outputs": [],
   "source": []
  }
 ],
 "metadata": {
  "kernelspec": {
   "display_name": "Python 3",
   "language": "python",
   "name": "python3"
  },
  "language_info": {
   "codemirror_mode": {
    "name": "ipython",
    "version": 3
   },
   "file_extension": ".py",
   "mimetype": "text/x-python",
   "name": "python",
   "nbconvert_exporter": "python",
   "pygments_lexer": "ipython3",
   "version": "3.8.0"
  }
 },
 "nbformat": 4,
 "nbformat_minor": 4
}
